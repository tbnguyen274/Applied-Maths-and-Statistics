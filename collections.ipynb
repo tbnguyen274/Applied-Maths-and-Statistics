{
 "cells": [
  {
   "cell_type": "markdown",
   "metadata": {},
   "source": [
    "$$\n",
    "\\begin{matrix}\n",
    "a_{11} & a_{12} & a_{13} \\\\\n",
    "a_{21} & a_{22} & a_{23} \\\\\n",
    "a_{31} & a_{32} & a_{33}\n",
    "\\end{matrix}\n",
    "$$"
   ]
  },
  {
   "cell_type": "markdown",
   "metadata": {},
   "source": [
    "$$\n",
    "\\begin{bmatrix}\n",
    "a_{11} & a_{12} & a_{13} \\\\\n",
    "a_{21} & a_{22} & a_{23} \\\\\n",
    "a_{31} & a_{32} & a_{33}\n",
    "\\end{bmatrix}\n",
    "$$"
   ]
  },
  {
   "cell_type": "markdown",
   "metadata": {},
   "source": [
    "$$\n",
    "\\begin{pmatrix}\n",
    "a_{11} & a_{12} & a_{13} \\\\\n",
    "a_{21} & a_{22} & a_{23} \\\\\n",
    "a_{31} & a_{32} & a_{33}\n",
    "\\end{pmatrix}\n",
    "$$"
   ]
  },
  {
   "cell_type": "markdown",
   "metadata": {},
   "source": [
    "$$\n",
    "\\begin{vmatrix}\n",
    "a_{11} & a_{12} & a_{13} \\\\\n",
    "a_{21} & a_{22} & a_{23} \\\\\n",
    "a_{31} & a_{32} & a_{33}\n",
    "\\end{vmatrix}\n",
    "$$"
   ]
  },
  {
   "cell_type": "markdown",
   "metadata": {},
   "source": [
    "$$\n",
    "\\begin{pmatrix}\n",
    "a_{11} & a_{12} & a_{13} & | & b_1 \\\\\n",
    "a_{21} & a_{22} & a_{23} & | & b_2 \\\\\n",
    "a_{31} & a_{32} & a_{33} & | & b_3\n",
    "\\end{pmatrix}\n",
    "$$"
   ]
  },
  {
   "cell_type": "markdown",
   "metadata": {},
   "source": [
    "$$\n",
    "\\begin{bmatrix}\n",
    "a_{11} & a_{12} & \\cdots & a_{1n} \\\\\n",
    "a_{21} & a_{22} & \\cdots & a_{2n} \\\\\n",
    "\\vdots & \\vdots & \\ddots & \\vdots \\\\\n",
    "a_{m1} & a_{m2} & \\cdots & a_{mn}\n",
    "\\end{bmatrix}\n",
    "$$"
   ]
  },
  {
   "cell_type": "markdown",
   "metadata": {},
   "source": [
    "x<sup>2</sup> + y<sup>2</sup> = z<sup>2</sup>  \n",
    "$x^2 + y^2 = z^2$  \n",
    "$e^{i\\pi} + 1 = 0$  \n",
    "H<sub>2</sub>O  \n",
    "$H_2O$  \n",
    "$\\alpha$ (alpha)\n",
    "$\\beta$ (beta)\n",
    "$\\gamma$ (gamma)\n",
    "$\\delta$ (delta)\n",
    "$\\varepsilon$ (epsilon)\n",
    "$\\theta$ (theta)\n",
    "$\\pi$ (pi)\n",
    "$\\sigma$ (sigma)\n",
    "$\\omega$ (omega)  \n",
    "$\\hat{\\beta} = (X^TX)^{-1}X^Ty$"
   ]
  },
  {
   "cell_type": "markdown",
   "metadata": {},
   "source": [
    "$$\\sum_{i=1}^{n} i^2 = \\frac{n(n+1)(2n+1)}{6}$$  \n",
    "$\\sum_{i=0}^{n} \\binom{n}{i} p^i (1-p)^{n-i}$"
   ]
  },
  {
   "cell_type": "markdown",
   "metadata": {},
   "source": [
    "$$\n",
    "\\begin{aligned}\n",
    "\\text{Biểu thức ban đầu} &= \\text{biến đổi bước 1} \\\\\n",
    "&= \\text{biến đổi bước 2} \\\\\n",
    "&= \\text{biến đổi bước 3} \\\\\n",
    "&= \\text{kết quả cuối cùng}\n",
    "\\end{aligned}\n",
    "$$\n",
    "\n",
    "$$\n",
    "\\begin{align}\n",
    "a + b &= c \\\\\n",
    "d + e &= f \\\\\n",
    "x + y &= z\n",
    "\\end{align}\n",
    "$$"
   ]
  },
  {
   "cell_type": "markdown",
   "metadata": {},
   "source": [
    "$$\n",
    "\\begin{align}\n",
    "& = \\text{dòng 1} \\\\\n",
    "& = \\text{dòng 2} \\\\\n",
    "& = \\text{dòng 3}\n",
    "\\end{align}\n",
    "$$"
   ]
  },
  {
   "cell_type": "code",
   "execution_count": null,
   "metadata": {},
   "outputs": [
    {
     "name": "stdout",
     "output_type": "stream",
     "text": [
      "Xác suất kết thúc không quá 1 lần tung: P(kết thúc <= 1) = 0.000000 (phân số: 0)\n",
      "Xác suất kết thúc không quá 2 lần tung: P(kết thúc <= 2) = 0.166667 (phân số: 1/6)\n",
      "Xác suất kết thúc không quá 3 lần tung: P(kết thúc <= 3) = 0.305556 (phân số: 11/36)\n",
      "Xác suất kết thúc không quá 4 lần tung: P(kết thúc <= 4) = 0.421296 (phân số: 91/216)\n",
      "Xác suất kết thúc không quá 5 lần tung: P(kết thúc <= 5) = 0.517747 (phân số: 671/1296)\n",
      "Xác suất kết thúc không quá 6 lần tung: P(kết thúc <= 6) = 0.598122 (phân số: 4651/7776)\n",
      "Xác suất kết thúc không quá 7 lần tung: P(kết thúc <= 7) = 0.665102 (phân số: 31031/46656)\n",
      "Xác suất kết thúc không quá 8 lần tung: P(kết thúc <= 8) = 0.720918 (phân số: 201811/279936)\n",
      "Xác suất kết thúc không quá 9 lần tung: P(kết thúc <= 9) = 0.767432 (phân số: 1288991/1679616)\n",
      "Xác suất kết thúc không quá 10 lần tung: P(kết thúc <= 10) = 0.806193 (phân số: 8124571/10077696)\n"
     ]
    }
   ],
   "source": [
    "import numpy as np\n",
    "from fractions import Fraction\n",
    "\n",
    "def calculate_exact_probability(n):\n",
    "    \"\"\"\n",
    "    Tính xác suất chính xác bằng phân số để tránh sai số làm tròn.\n",
    "    \"\"\"\n",
    "    # Ma trận chuyển trạng thái với phân số\n",
    "    P = [[Fraction(0) for _ in range(8)] for _ in range(8)]\n",
    "    \n",
    "    # Từ trạng thái START (chỉ số 0), tung lần đầu\n",
    "    for dice_value in range(1, 7):\n",
    "        P[0][dice_value] += Fraction(1, 6)  # Chuyển sang trạng thái 1-6\n",
    "    \n",
    "    # Từ các trạng thái 1,2,3,4,5,6\n",
    "    for i in range(1, 7):\n",
    "        for dice_value in range(1, 7):\n",
    "            next_sum = i + dice_value\n",
    "            if next_sum % 7 == 0:  # Tổng chia hết cho 7 → STOP\n",
    "                P[i][7] += Fraction(1, 6)\n",
    "            else:\n",
    "                next_state = next_sum % 7\n",
    "                if next_state == 0:\n",
    "                    # Trường hợp này không xảy ra\n",
    "                    pass\n",
    "                else:\n",
    "                    P[i][next_state] += Fraction(1, 6)\n",
    "    \n",
    "    # Trạng thái STOP\n",
    "    P[7][7] = Fraction(1)\n",
    "    \n",
    "    # Tính bằng dynamic programming với phân số\n",
    "    dp = [[Fraction(0) for _ in range(8)] for _ in range(n + 1)]\n",
    "    dp[0][0] = Fraction(1)  # Bắt đầu từ START\n",
    "    \n",
    "    for t in range(n):\n",
    "        for i in range(8):\n",
    "            if dp[t][i] > 0:\n",
    "                for j in range(8):\n",
    "                    if P[i][j] > 0:\n",
    "                        dp[t + 1][j] += dp[t][i] * P[i][j]\n",
    "    \n",
    "    # Xác suất ở trạng thái STOP sau n bước\n",
    "    result_fraction = dp[n][7]\n",
    "    \n",
    "    return float(result_fraction), result_fraction\n",
    "\n",
    "\n",
    "\n",
    "# Test các hàm\n",
    "if __name__ == \"__main__\":\n",
    "    # Tính xác suất tung xúc xắc không quá n lần để tổng chia hết cho 7\n",
    "    n = 10\n",
    "    for i in range(1, n + 1):\n",
    "        prob, prob_fraction = calculate_exact_probability(i)\n",
    "        print(f\"Xác suất kết thúc không quá {i} lần tung: P(kết thúc <= {i}) = {prob:.6f} (phân số: {prob_fraction})\")\n",
    "    "
   ]
  },
  {
   "cell_type": "code",
   "execution_count": null,
   "metadata": {},
   "outputs": [],
   "source": [
    "def simulate_dice_game(n_simulations=100000):\n",
    "    \"\"\"\n",
    "    Mô phỏng Monte Carlo để kiểm tra kết quả\n",
    "    \"\"\"\n",
    "    import random\n",
    "    \n",
    "    results = []\n",
    "    \n",
    "    for _ in range(n_simulations):\n",
    "        total_sum = 0\n",
    "        steps = 0\n",
    "        \n",
    "        while True:\n",
    "            steps += 1\n",
    "            dice_value = random.randint(1, 6)\n",
    "            total_sum += dice_value\n",
    "            \n",
    "            if total_sum % 7 == 0:\n",
    "                break\n",
    "                \n",
    "            if steps >= 50:  # Tránh vòng lặp vô hạn\n",
    "                steps = float('inf')\n",
    "                break\n",
    "        \n",
    "        results.append(steps)\n",
    "    \n",
    "    # Tính xác suất kết thúc không quá n lần\n",
    "    def prob_at_most_n(n):\n",
    "        count = sum(1 for steps in results if steps <= n)\n",
    "        return count / n_simulations\n",
    "    \n",
    "    print(\"=== MÔ PHỎNG MONTE CARLO ===\")\n",
    "    for n in [1, 2, 3, 4, 5, 10]:\n",
    "        prob = prob_at_most_n(n)\n",
    "        print(f\"P(kết thúc <= {n} lần) ≈ {prob:.6f}\")\n"
   ]
  }
 ],
 "metadata": {
  "kernelspec": {
   "display_name": ".venv",
   "language": "python",
   "name": "python3"
  },
  "language_info": {
   "codemirror_mode": {
    "name": "ipython",
    "version": 3
   },
   "file_extension": ".py",
   "mimetype": "text/x-python",
   "name": "python",
   "nbconvert_exporter": "python",
   "pygments_lexer": "ipython3",
   "version": "3.13.2"
  }
 },
 "nbformat": 4,
 "nbformat_minor": 2
}
